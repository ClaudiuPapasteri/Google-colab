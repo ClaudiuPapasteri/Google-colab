{
  "nbformat": 4,
  "nbformat_minor": 0,
  "metadata": {
    "colab": {
      "name": "PA4_script_surveymonkey.ipynb",
      "provenance": [],
      "collapsed_sections": [],
      "include_colab_link": true
    },
    "kernelspec": {
      "name": "ir",
      "display_name": "R"
    }
  },
  "cells": [
    {
      "cell_type": "markdown",
      "metadata": {
        "id": "view-in-github",
        "colab_type": "text"
      },
      "source": [
        "<a href=\"https://colab.research.google.com/github/ClaudiuPapasteri/Google-colab/blob/main/PA4/PA4_script_surveymonkey.ipynb\" target=\"_parent\"><img src=\"https://colab.research.google.com/assets/colab-badge.svg\" alt=\"Open In Colab\"/></a>"
      ]
    },
    {
      "cell_type": "markdown",
      "metadata": {
        "id": "AtxyCnlCcAi1"
      },
      "source": [
        "# **PA4**\n",
        "\n",
        "## ***Screening form***\n",
        "\n",
        "Claudiu Papasteri\n",
        "\n",
        "<i>Native R Google Colab Template</i>\n",
        "\n",
        "[My Github notebooks](https://github.com/ClaudiuPapasteri/notebooks)"
      ]
    },
    {
      "cell_type": "markdown",
      "metadata": {
        "id": "Jcsu76adARUv"
      },
      "source": [
        "---"
      ]
    },
    {
      "cell_type": "markdown",
      "metadata": {
        "id": "1M8Wrd50Zyfr"
      },
      "source": [
        "## Install & load packages"
      ]
    },
    {
      "cell_type": "code",
      "metadata": {
        "id": "tg4XUaNygDBp",
        "colab": {
          "base_uri": "https://localhost:8080/",
          "height": 672
        },
        "outputId": "c360a7ed-650d-4b34-e2be-6190bf9b50fd"
      },
      "source": [
        "options(rlang_interactive = TRUE)  # needed to mount Google Drive\n",
        "\n",
        "load.libs <- \n",
        "  c(\n",
        "    \"tidyverse\", \"stringr\",\n",
        "    \"googledrive\", \"googlesheets4\"\n",
        "   )\n",
        "install.libs <- load.libs[!load.libs %in% installed.packages()]\n",
        "for(libs in install.libs) install.packages(libs, dependences = TRUE)\n",
        "sapply(load.libs, require, character = TRUE)\n",
        "rm(list = ls())"
      ],
      "execution_count": 1,
      "outputs": [
        {
          "output_type": "stream",
          "text": [
            "Installing package into ‘/usr/local/lib/R/site-library’\n",
            "(as ‘lib’ is unspecified)\n",
            "\n",
            "also installing the dependency ‘gargle’\n",
            "\n",
            "\n",
            "Installing package into ‘/usr/local/lib/R/site-library’\n",
            "(as ‘lib’ is unspecified)\n",
            "\n",
            "also installing the dependency ‘ids’\n",
            "\n",
            "\n",
            "Loading required package: tidyverse\n",
            "\n",
            "── \u001b[1mAttaching packages\u001b[22m ─────────────────────────────────────── tidyverse 1.3.0 ──\n",
            "\n",
            "\u001b[32m✔\u001b[39m \u001b[34mggplot2\u001b[39m 3.3.2     \u001b[32m✔\u001b[39m \u001b[34mpurrr  \u001b[39m 0.3.4\n",
            "\u001b[32m✔\u001b[39m \u001b[34mtibble \u001b[39m 3.0.4     \u001b[32m✔\u001b[39m \u001b[34mdplyr  \u001b[39m 1.0.2\n",
            "\u001b[32m✔\u001b[39m \u001b[34mtidyr  \u001b[39m 1.1.2     \u001b[32m✔\u001b[39m \u001b[34mstringr\u001b[39m 1.4.0\n",
            "\u001b[32m✔\u001b[39m \u001b[34mreadr  \u001b[39m 1.4.0     \u001b[32m✔\u001b[39m \u001b[34mforcats\u001b[39m 0.5.0\n",
            "\n",
            "── \u001b[1mConflicts\u001b[22m ────────────────────────────────────────── tidyverse_conflicts() ──\n",
            "\u001b[31m✖\u001b[39m \u001b[34mdplyr\u001b[39m::\u001b[32mfilter()\u001b[39m masks \u001b[34mstats\u001b[39m::filter()\n",
            "\u001b[31m✖\u001b[39m \u001b[34mdplyr\u001b[39m::\u001b[32mlag()\u001b[39m    masks \u001b[34mstats\u001b[39m::lag()\n",
            "\n",
            "Loading required package: googledrive\n",
            "\n",
            "Loading required package: googlesheets4\n",
            "\n",
            "\n",
            "Attaching package: ‘googlesheets4’\n",
            "\n",
            "\n",
            "The following objects are masked from ‘package:googledrive’:\n",
            "\n",
            "    request_generate, request_make\n",
            "\n",
            "\n"
          ],
          "name": "stderr"
        },
        {
          "output_type": "display_data",
          "data": {
            "text/plain": [
              "    tidyverse       stringr   googledrive googlesheets4 \n",
              "         TRUE          TRUE          TRUE          TRUE "
            ],
            "text/latex": "\\begin{description*}\n\\item[tidyverse] TRUE\n\\item[stringr] TRUE\n\\item[googledrive] TRUE\n\\item[googlesheets4] TRUE\n\\end{description*}\n",
            "text/markdown": "tidyverse\n:   TRUEstringr\n:   TRUEgoogledrive\n:   TRUEgooglesheets4\n:   TRUE\n\n",
            "text/html": [
              "<style>\n",
              ".dl-inline {width: auto; margin:0; padding: 0}\n",
              ".dl-inline>dt, .dl-inline>dd {float: none; width: auto; display: inline-block}\n",
              ".dl-inline>dt::after {content: \":\\0020\"; padding-right: .5ex}\n",
              ".dl-inline>dt:not(:first-of-type) {padding-left: .5ex}\n",
              "</style><dl class=dl-inline><dt>tidyverse</dt><dd>TRUE</dd><dt>stringr</dt><dd>TRUE</dd><dt>googledrive</dt><dd>TRUE</dd><dt>googlesheets4</dt><dd>TRUE</dd></dl>\n"
            ]
          },
          "metadata": {
            "tags": []
          }
        }
      ]
    },
    {
      "cell_type": "markdown",
      "metadata": {
        "id": "zScZN2RLed8P"
      },
      "source": [
        "---"
      ]
    },
    {
      "cell_type": "markdown",
      "metadata": {
        "id": "_YlmC7m8HSLz"
      },
      "source": [
        "# Mount Google Drive"
      ]
    },
    {
      "cell_type": "code",
      "metadata": {
        "colab": {
          "base_uri": "https://localhost:8080/"
        },
        "id": "FuY8vyMbHXNX",
        "outputId": "996287db-a902-4ff4-a1be-92ab3ee539bf"
      },
      "source": [
        "# Mount Google Drive in an R kernel\n",
        "library(\"googledrive\")\n",
        "library(\"googlesheets4\")\n",
        "\n",
        "# Check if is running in Colab and redefine is_interactive()\n",
        "if (file.exists(\"/usr/local/lib/python3.6/dist-packages/google/colab/_ipython.py\")) {\n",
        "  suppressMessages({\n",
        "    install.packages(\"R.utils\")\n",
        "    library(R.utils)\n",
        "    library(httr)\n",
        "    library(rlang)\n",
        "  })  \n",
        "  my_check <- function() {return(TRUE)}\n",
        "  reassignInPackage(\"is_interactive\", pkgName = \"httr\", my_check) \n",
        "  reassignInPackage(\"is_interactive\", pkgName = \"rlang\", my_check) \n",
        "}\n",
        "\n",
        "# Call Google Drive authentication forcing interactive login and save in cache \n",
        "googledrive::drive_auth(use_oob = TRUE, cache = TRUE)      \n",
        "\n",
        "# Reuse token to Sheet authentification \n",
        "googlesheets4::gs4_auth(token = drive_token())\n",
        "\n",
        "# Load data from Google Sheets\n",
        "sheet_url <- 'https://docs.google.com/spreadsheets/d/1mPpvLKHVQ5G-B2frnssEJSoSv-mrFPF1yhUdxh8QC1k/edit?usp=sharing'\n",
        "Data <- googlesheets4::range_read(ss = sheet_url,\n",
        "                                  sheet = 2)                        "
      ],
      "execution_count": 2,
      "outputs": [
        {
          "output_type": "stream",
          "text": [
            "Please point your browser to the following url: \n",
            "\n",
            "https://accounts.google.com/o/oauth2/auth?client_id=603366585132-0l3n5tr582q443rnomebdeeo0156b2bc.apps.googleusercontent.com&scope=https%3A%2F%2Fwww.googleapis.com%2Fauth%2Fdrive%20https%3A%2F%2Fwww.googleapis.com%2Fauth%2Fuserinfo.email&redirect_uri=urn%3Aietf%3Awg%3Aoauth%3A2.0%3Aoob&response_type=code\n",
            "\n"
          ],
          "name": "stderr"
        },
        {
          "output_type": "stream",
          "text": [
            "Enter authorization code: 4/1AY0e-g5LEcPnrfDXegctiQ3XRnSIy747-bx2awovEUeLMgFzawQcwg-vuxY\n"
          ],
          "name": "stdout"
        },
        {
          "output_type": "stream",
          "text": [
            "Reading from \"Raspunsuri chestionar inscriere PA4\"\n",
            "\n",
            "Range \"'Înscriere și consimțământ informat PA4 online GSR-PPG'\"\n",
            "\n",
            "New names:\n",
            "* `Ți s-a întâmplat acest eveniment?` -> `Ți s-a întâmplat acest eveniment?...83`\n",
            "* `Forma de expunere` -> `Forma de expunere...84`\n",
            "* `Perioada în care s-a produs expunerea` -> `Perioada în care s-a produs expunerea...85`\n",
            "* `Ți s-a întâmplat acest eveniment?` -> `Ți s-a întâmplat acest eveniment?...86`\n",
            "* `Forma de expunere` -> `Forma de expunere...87`\n",
            "* ...\n",
            "\n"
          ],
          "name": "stderr"
        }
      ]
    },
    {
      "cell_type": "markdown",
      "metadata": {
        "id": "mCzNSnaewzO-"
      },
      "source": [
        "# Run code from Github"
      ]
    },
    {
      "cell_type": "code",
      "metadata": {
        "id": "LNP7YSjTw4L1"
      },
      "source": [
        "# Define function to source in global env from github url (?raw method) with encoding\r\n",
        "source_github_encod <- function(url, encoding = 'UTF-8') {\r\n",
        "  raw <- paste(url, \"?raw=TRUE\", sep = \"\", collapse = \"\")\r\n",
        "  l <- readLines(raw, encoding = encoding)\r\n",
        "  eval(parse(text = l), envir = .GlobalEnv)\r\n",
        "}       #devtools::source_url(x, encoding = 'UTF-8')   #  doesn't work every time\r\n",
        "\r\n",
        "source_github_encod(\"https://github.com/ClaudiuPapasteri/Google-colab/blob/main/PA4/script_surveymonkey-colab-github_code.R\")\r\n",
        "# outputs: Data, df_screening"
      ],
      "execution_count": 3,
      "outputs": []
    },
    {
      "cell_type": "markdown",
      "metadata": {
        "id": "p2_-ognh3S9z"
      },
      "source": [
        "# Save data to Google Sheet"
      ]
    },
    {
      "cell_type": "code",
      "metadata": {
        "colab": {
          "base_uri": "https://localhost:8080/"
        },
        "id": "22F-OD873bFj",
        "outputId": "4cb2ba5b-482d-4296-ed69-87679a1f8b5e"
      },
      "source": [
        "# Reuse token to Sheet authentification \n",
        "googlesheets4::gs4_auth(token = drive_token())\n",
        "\n",
        "# Data for export\n",
        "data_output <- df_screening\n",
        "\n",
        "# Name Sheet that will be created\n",
        "gsheet_name <- paste (\"PA4_Screening\", Sys.time(), sep = \" \")\n",
        "\n",
        "# Create Sheet in Google Drive\n",
        "if(googlesheets4::gs4_has_token()) {\n",
        "  gsheet_obj <- googlesheets4::gs4_create(\n",
        "    name = gsheet_name,\n",
        "    sheets = list(Sheet1 = data_output)    # Data goes in here\n",
        "    )\n",
        "}\n",
        " \n",
        "# Print a Sheet URL\n",
        "googlesheets4::gs4_get(googlesheets4::gs4_find(gsheet_name))$spreadsheet_url %>%\n",
        "  httr::BROWSE() "
      ],
      "execution_count": 4,
      "outputs": [
        {
          "output_type": "stream",
          "text": [
            "Creating new Sheet: \"PA4_Screening 2020-12-13 11:36:36\"\n",
            "\n",
            "Please point your browser to the following url: \n",
            "\n",
            "https://docs.google.com/spreadsheets/d/1fkiTo9zTS2YwmsthgeNFxjEogeuuNQt1kzkVuDvP528/edit\n",
            "\n"
          ],
          "name": "stderr"
        }
      ]
    },
    {
      "cell_type": "markdown",
      "metadata": {
        "id": "MZrQdc7P_S1J"
      },
      "source": [
        "## Delete Sheet from Google Drive"
      ]
    },
    {
      "cell_type": "code",
      "metadata": {
        "colab": {
          "base_uri": "https://localhost:8080/"
        },
        "id": "n0W13Kch_Y9u",
        "outputId": "0e78bd3a-6330-4ef4-ed79-dc873152cb12"
      },
      "source": [
        "# Delete Sheet form Google Drive\n",
        "googledrive::drive_trash(gsheet_obj)          # good for removing in same session (obj still in memory)\n",
        "# googlesheets4::gs4_find(gsheet_name) %>%   # good for removing in different session\n",
        "#   googledrive::drive_trash()"
      ],
      "execution_count": 5,
      "outputs": [
        {
          "output_type": "stream",
          "text": [
            "Files trashed:\n",
            "  * PA4_Screening 2020-12-13 11:36:36: 1fkiTo9zTS2YwmsthgeNFxjEogeuuNQt1kzkVuDvP528\n",
            "\n"
          ],
          "name": "stderr"
        }
      ]
    },
    {
      "cell_type": "markdown",
      "metadata": {
        "id": "SqtJXKlD1jnu"
      },
      "source": [
        "---"
      ]
    },
    {
      "cell_type": "markdown",
      "metadata": {
        "id": "uVqcvAzr95fd"
      },
      "source": [
        "## Sesion Info\n",
        "\n",
        "\n",
        "```\n",
        "# Info formatted as code\n",
        "```"
      ]
    },
    {
      "cell_type": "code",
      "metadata": {
        "id": "RiYqSKT3bpCg",
        "colab": {
          "base_uri": "https://localhost:8080/",
          "height": 50
        },
        "outputId": "ada4b530-9087-48ef-f65c-94937867b5ca"
      },
      "source": [
        "Sys.info()"
      ],
      "execution_count": null,
      "outputs": [
        {
          "output_type": "display_data",
          "data": {
            "text/plain": [
              "                              sysname                               release \n",
              "                              \"Linux\"                           \"4.19.112+\" \n",
              "                              version                              nodename \n",
              "\"#1 SMP Thu Jul 23 08:00:38 PDT 2020\"                        \"b61cfeb3d473\" \n",
              "                              machine                                 login \n",
              "                             \"x86_64\"                             \"unknown\" \n",
              "                                 user                        effective_user \n",
              "                               \"root\"                                \"root\" "
            ],
            "text/latex": "\\begin{description*}\n\\item[sysname] 'Linux'\n\\item[release] '4.19.112+'\n\\item[version] '\\#1 SMP Thu Jul 23 08:00:38 PDT 2020'\n\\item[nodename] 'b61cfeb3d473'\n\\item[machine] 'x86\\_64'\n\\item[login] 'unknown'\n\\item[user] 'root'\n\\item[effective\\textbackslash{}\\_user] 'root'\n\\end{description*}\n",
            "text/markdown": "sysname\n:   'Linux'release\n:   '4.19.112+'version\n:   '#1 SMP Thu Jul 23 08:00:38 PDT 2020'nodename\n:   'b61cfeb3d473'machine\n:   'x86_64'login\n:   'unknown'user\n:   'root'effective_user\n:   'root'\n\n",
            "text/html": [
              "<style>\n",
              ".dl-inline {width: auto; margin:0; padding: 0}\n",
              ".dl-inline>dt, .dl-inline>dd {float: none; width: auto; display: inline-block}\n",
              ".dl-inline>dt::after {content: \":\\0020\"; padding-right: .5ex}\n",
              ".dl-inline>dt:not(:first-of-type) {padding-left: .5ex}\n",
              "</style><dl class=dl-inline><dt>sysname</dt><dd>'Linux'</dd><dt>release</dt><dd>'4.19.112+'</dd><dt>version</dt><dd>'#1 SMP Thu Jul 23 08:00:38 PDT 2020'</dd><dt>nodename</dt><dd>'b61cfeb3d473'</dd><dt>machine</dt><dd>'x86_64'</dd><dt>login</dt><dd>'unknown'</dd><dt>user</dt><dd>'root'</dd><dt>effective_user</dt><dd>'root'</dd></dl>\n"
            ]
          },
          "metadata": {
            "tags": []
          }
        }
      ]
    }
  ]
}