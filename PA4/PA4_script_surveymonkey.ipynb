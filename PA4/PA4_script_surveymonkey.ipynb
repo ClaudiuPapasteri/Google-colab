{
  "nbformat": 4,
  "nbformat_minor": 0,
  "metadata": {
    "colab": {
      "name": "PA4_script_surveymonkey.ipynb",
      "provenance": [],
      "collapsed_sections": [],
      "include_colab_link": true
    },
    "kernelspec": {
      "name": "ir",
      "display_name": "R"
    }
  },
  "cells": [
    {
      "cell_type": "markdown",
      "metadata": {
        "id": "view-in-github",
        "colab_type": "text"
      },
      "source": [
        "<a href=\"https://colab.research.google.com/github/ClaudiuPapasteri/Google-colab/blob/main/PA4/PA4_script_surveymonkey.ipynb\" target=\"_parent\"><img src=\"https://colab.research.google.com/assets/colab-badge.svg\" alt=\"Open In Colab\"/></a>"
      ]
    },
    {
      "cell_type": "markdown",
      "metadata": {
        "id": "AtxyCnlCcAi1"
      },
      "source": [
        "# **PA4**\n",
        "\n",
        "## ***Screening form***\n",
        "\n",
        "Claudiu Papasteri\n",
        "\n",
        "<i>Native R Google Colab Template</i>\n",
        "\n",
        "[My Github notebooks](https://github.com/ClaudiuPapasteri/notebooks)"
      ]
    },
    {
      "cell_type": "markdown",
      "metadata": {
        "id": "Jcsu76adARUv"
      },
      "source": [
        "---"
      ]
    },
    {
      "cell_type": "markdown",
      "metadata": {
        "id": "1M8Wrd50Zyfr"
      },
      "source": [
        "## Install & load packages"
      ]
    },
    {
      "cell_type": "code",
      "metadata": {
        "id": "tg4XUaNygDBp",
        "colab": {
          "base_uri": "https://localhost:8080/",
          "height": 706
        },
        "outputId": "5322a6d8-f358-47aa-cf80-cef310670a61"
      },
      "source": [
        "options(rlang_interactive = TRUE)  # needed to mount Google Drive\n",
        "\n",
        "load.libs <- \n",
        "  c(\n",
        "    \"tidyverse\", \"stringr\",\n",
        "    \"googledrive\", \"googlesheets4\"\n",
        "   )\n",
        "install.libs <- load.libs[!load.libs %in% installed.packages()]\n",
        "for(libs in install.libs) install.packages(libs, dependences = TRUE)\n",
        "sapply(load.libs, require, character = TRUE)\n",
        "rm(list = ls())"
      ],
      "execution_count": 1,
      "outputs": [
        {
          "output_type": "stream",
          "text": [
            "Installing package into ‘/usr/local/lib/R/site-library’\n",
            "(as ‘lib’ is unspecified)\n",
            "\n",
            "also installing the dependency ‘gargle’\n",
            "\n",
            "\n",
            "Installing package into ‘/usr/local/lib/R/site-library’\n",
            "(as ‘lib’ is unspecified)\n",
            "\n",
            "also installing the dependency ‘ids’\n",
            "\n",
            "\n",
            "Loading required package: tidyverse\n",
            "\n",
            "Warning message in system(\"timedatectl\", intern = TRUE):\n",
            "“running command 'timedatectl' had status 1”\n",
            "── \u001b[1mAttaching packages\u001b[22m ─────────────────────────────────────── tidyverse 1.3.0 ──\n",
            "\n",
            "\u001b[32m✔\u001b[39m \u001b[34mggplot2\u001b[39m 3.3.3     \u001b[32m✔\u001b[39m \u001b[34mpurrr  \u001b[39m 0.3.4\n",
            "\u001b[32m✔\u001b[39m \u001b[34mtibble \u001b[39m 3.1.0     \u001b[32m✔\u001b[39m \u001b[34mdplyr  \u001b[39m 1.0.4\n",
            "\u001b[32m✔\u001b[39m \u001b[34mtidyr  \u001b[39m 1.1.3     \u001b[32m✔\u001b[39m \u001b[34mstringr\u001b[39m 1.4.0\n",
            "\u001b[32m✔\u001b[39m \u001b[34mreadr  \u001b[39m 1.4.0     \u001b[32m✔\u001b[39m \u001b[34mforcats\u001b[39m 0.5.1\n",
            "\n",
            "── \u001b[1mConflicts\u001b[22m ────────────────────────────────────────── tidyverse_conflicts() ──\n",
            "\u001b[31m✖\u001b[39m \u001b[34mdplyr\u001b[39m::\u001b[32mfilter()\u001b[39m masks \u001b[34mstats\u001b[39m::filter()\n",
            "\u001b[31m✖\u001b[39m \u001b[34mdplyr\u001b[39m::\u001b[32mlag()\u001b[39m    masks \u001b[34mstats\u001b[39m::lag()\n",
            "\n",
            "Loading required package: googledrive\n",
            "\n",
            "Loading required package: googlesheets4\n",
            "\n",
            "\n",
            "Attaching package: ‘googlesheets4’\n",
            "\n",
            "\n",
            "The following objects are masked from ‘package:googledrive’:\n",
            "\n",
            "    request_generate, request_make\n",
            "\n",
            "\n"
          ],
          "name": "stderr"
        },
        {
          "output_type": "display_data",
          "data": {
            "text/plain": [
              "    tidyverse       stringr   googledrive googlesheets4 \n",
              "         TRUE          TRUE          TRUE          TRUE "
            ],
            "text/latex": "\\begin{description*}\n\\item[tidyverse] TRUE\n\\item[stringr] TRUE\n\\item[googledrive] TRUE\n\\item[googlesheets4] TRUE\n\\end{description*}\n",
            "text/markdown": "tidyverse\n:   TRUEstringr\n:   TRUEgoogledrive\n:   TRUEgooglesheets4\n:   TRUE\n\n",
            "text/html": [
              "<style>\n",
              ".dl-inline {width: auto; margin:0; padding: 0}\n",
              ".dl-inline>dt, .dl-inline>dd {float: none; width: auto; display: inline-block}\n",
              ".dl-inline>dt::after {content: \":\\0020\"; padding-right: .5ex}\n",
              ".dl-inline>dt:not(:first-of-type) {padding-left: .5ex}\n",
              "</style><dl class=dl-inline><dt>tidyverse</dt><dd>TRUE</dd><dt>stringr</dt><dd>TRUE</dd><dt>googledrive</dt><dd>TRUE</dd><dt>googlesheets4</dt><dd>TRUE</dd></dl>\n"
            ]
          },
          "metadata": {
            "tags": []
          }
        }
      ]
    },
    {
      "cell_type": "markdown",
      "metadata": {
        "id": "zScZN2RLed8P"
      },
      "source": [
        "---"
      ]
    },
    {
      "cell_type": "markdown",
      "metadata": {
        "id": "_YlmC7m8HSLz"
      },
      "source": [
        "# Mount Google Drive"
      ]
    },
    {
      "cell_type": "code",
      "metadata": {
        "colab": {
          "base_uri": "https://localhost:8080/",
          "height": 313
        },
        "id": "FuY8vyMbHXNX",
        "outputId": "3cb0266b-2bff-49e5-e875-56ae4632f8d0"
      },
      "source": [
        "# Mount Google Drive in an R kernel\n",
        "library(\"googledrive\")\n",
        "library(\"googlesheets4\")\n",
        "\n",
        "# Check if is running in Colab and redefine is_interactive()\n",
        "if (file.exists(\"/usr/local/lib/python3.7/dist-packages/google/colab/_ipython.py\")) {\n",
        "  suppressMessages({\n",
        "    install.packages(\"R.utils\")\n",
        "    library(R.utils)\n",
        "    library(httr)\n",
        "    library(rlang)\n",
        "  })  \n",
        "  my_check <- function() {return(TRUE)}\n",
        "  reassignInPackage(\"is_interactive\", pkgName = \"httr\", my_check) \n",
        "  reassignInPackage(\"is_interactive\", pkgName = \"rlang\", my_check) \n",
        "}\n",
        "\n",
        "# Call Google Drive authentication forcing interactive login and save in cache \n",
        "googledrive::drive_auth(use_oob = TRUE, cache = TRUE)      \n",
        "\n",
        "# Reuse token to Sheet authentification \n",
        "googlesheets4::gs4_auth(token = drive_token())\n",
        "\n",
        "# Load data from Google Sheets\n",
        "sheet_url <- 'https://docs.google.com/spreadsheets/d/1mPpvLKHVQ5G-B2frnssEJSoSv-mrFPF1yhUdxh8QC1k/edit?usp=sharing'\n",
        "Data <- googlesheets4::range_read(ss = sheet_url,\n",
        "                                  sheet = 3)                        "
      ],
      "execution_count": 5,
      "outputs": [
        {
          "output_type": "stream",
          "text": [
            "The googledrive package is requesting access to your Google account. Select a pre-authorised account or enter '0' to obtain a new token. Press Esc/Ctrl + C to abort.\n",
            "\n"
          ],
          "name": "stderr"
        },
        {
          "output_type": "error",
          "ename": "ERROR",
          "evalue": "ignored",
          "traceback": [
            "Error: Can't get Google credentials.\nAre you running googledrive in a non-interactive session? Consider:\n  * `drive_deauth()` to prevent the attempt to get credentials.\n  * Call `drive_auth()` directly with all necessary specifics.\n  * Read more in: https://gargle.r-lib.org/articles/non-interactive-auth.html\nTraceback:\n",
            "1. googledrive::drive_auth(use_oob = TRUE, cache = TRUE)",
            "2. stop(\"Can't get Google credentials.\\n\", \"Are you running googledrive in a non-interactive session? Consider:\\n\", \n .     \"  * `drive_deauth()` to prevent the attempt to get credentials.\\n\", \n .     \"  * Call `drive_auth()` directly with all necessary specifics.\\n\", \n .     \"  * Read more in: https://gargle.r-lib.org/articles/non-interactive-auth.html\", \n .     call. = FALSE)"
          ]
        }
      ]
    },
    {
      "cell_type": "markdown",
      "metadata": {
        "id": "mCzNSnaewzO-"
      },
      "source": [
        "# Run code from Github"
      ]
    },
    {
      "cell_type": "code",
      "metadata": {
        "id": "LNP7YSjTw4L1",
        "colab": {
          "base_uri": "https://localhost:8080/",
          "height": 1000
        },
        "outputId": "ecf44389-8fa4-491e-a897-fcfc0c9f86bd"
      },
      "source": [
        "# Define function to source in global env from github url (?raw method) with encoding\r\n",
        "source_github_encod <- function(url, encoding = 'UTF-8') {\r\n",
        "  raw <- paste(url, \"?raw=TRUE\", sep = \"\", collapse = \"\")\r\n",
        "  l <- readLines(raw, encoding = encoding)\r\n",
        "  eval(parse(text = l), envir = .GlobalEnv)\r\n",
        "}       #devtools::source_url(x, encoding = 'UTF-8')   #  doesn't work every time\r\n",
        "\r\n",
        "source_github_encod(\"https://github.com/ClaudiuPapasteri/Google-colab/blob/main/PA4/script_surveymonkey-colab-github_code.R\")\r\n",
        "# outputs: Data, df_screening"
      ],
      "execution_count": 4,
      "outputs": [
        {
          "output_type": "error",
          "ename": "ERROR",
          "evalue": "ignored",
          "traceback": [
            "Error: Can't subset columns that don't exist.\n\u001b[31m✖\u001b[39m Locations 147, 148, 149, 150, 151, etc. don't exist.\n\u001b[34mℹ\u001b[39m There are only 146 columns.\nTraceback:\n",
            "1. source_github_encod(\"https://github.com/ClaudiuPapasteri/Google-colab/blob/main/PA4/script_surveymonkey-colab-github_code.R\")",
            "2. eval(parse(text = l), envir = .GlobalEnv)   # at line 5 of file <text>",
            "3. eval(parse(text = l), envir = .GlobalEnv)",
            "4. names(Data) %in% names(Data[, indexPCL])",
            "5. Data[, indexPCL]",
            "6. `[.tbl_df`(Data, , indexPCL)",
            "7. vectbl_as_col_location(j, length(xo), names(xo), j_arg = j_arg, \n .     assign = FALSE)",
            "8. subclass_col_index_errors(vec_as_location(j, n, names), j_arg = j_arg, \n .     assign = assign)",
            "9. withCallingHandlers(expr, vctrs_error_subscript = function(cnd) {\n .     cnd$subscript_arg <- j_arg\n .     cnd$subscript_elt <- \"column\"\n .     if (isTRUE(assign) && !isTRUE(cnd$subscript_action %in% c(\"negate\"))) {\n .         cnd$subscript_action <- \"assign\"\n .     }\n .     cnd_signal(cnd)\n . })",
            "10. vec_as_location(j, n, names)",
            "11. (function () \n  . stop_subscript_oob(i = i, subscript_type = subscript_type, size = size, \n  .     subscript_action = subscript_action, subscript_arg = subscript_arg))()",
            "12. stop_subscript_oob(i = i, subscript_type = subscript_type, size = size, \n  .     subscript_action = subscript_action, subscript_arg = subscript_arg)",
            "13. stop_subscript(class = \"vctrs_error_subscript_oob\", i = i, subscript_type = subscript_type, \n  .     ...)",
            "14. abort(class = c(class, \"vctrs_error_subscript\"), i = i, ...)",
            "15. signal_abort(cnd)",
            "16. signalCondition(cnd)",
            "17. (function (cnd) \n  . {\n  .     cnd$subscript_arg <- j_arg\n  .     cnd$subscript_elt <- \"column\"\n  .     if (isTRUE(assign) && !isTRUE(cnd$subscript_action %in% c(\"negate\"))) {\n  .         cnd$subscript_action <- \"assign\"\n  .     }\n  .     cnd_signal(cnd)\n  . })(structure(list(message = \"\", trace = structure(list(calls = list(\n  .     IRkernel::main(), kernel$run(), IRkernel:::handle_shell(), \n  .     executor$execute(msg), base::tryCatch(evaluate(request$content$code, \n  .         envir = .GlobalEnv, output_handler = oh, stop_on_error = 1L), \n  .         interrupt = function(cond) {\n  .             log_debug(\"Interrupt during execution\")\n  .             interrupted <<- TRUE\n  .         }, error = .self$handle_error), base:::tryCatchList(expr, \n  .         classes, parentenv, handlers), base:::tryCatchOne(tryCatchList(expr, \n  .         names[-nh], parentenv, handlers[-nh]), names[nh], parentenv, \n  .         handlers[[nh]]), base:::doTryCatch(return(expr), name, \n  .         parentenv, handler), base:::tryCatchList(expr, names[-nh], \n  .         parentenv, handlers[-nh]), base:::tryCatchOne(expr, names, \n  .         parentenv, handlers[[1L]]), base:::doTryCatch(return(expr), \n  .         name, parentenv, handler), evaluate::evaluate(request$content$code, \n  .         envir = .GlobalEnv, output_handler = oh, stop_on_error = 1L), \n  .     evaluate:::evaluate_call(expr, parsed$src[[i]], envir = envir, \n  .         enclos = enclos, debug = debug, last = i == length(out), \n  .         use_try = stop_on_error != 2L, keep_warning = keep_warning, \n  .         keep_message = keep_message, output_handler = output_handler, \n  .         include_timing = include_timing), evaluate:::timing_fn(handle(ev <- withCallingHandlers(withVisible(eval(expr, \n  .         envir, enclos)), warning = wHandler, error = eHandler, \n  .         message = mHandler))), evaluate:::handle(ev <- withCallingHandlers(withVisible(eval(expr, \n  .         envir, enclos)), warning = wHandler, error = eHandler, \n  .         message = mHandler)), base::try(f, silent = TRUE), base::tryCatch(expr, \n  .         error = function(e) {\n  .             call <- conditionCall(e)\n  .             if (!is.null(call)) {\n  .                 if (identical(call[[1L]], quote(doTryCatch))) \n  .                   call <- sys.call(-4L)\n  .                 dcall <- deparse(call)[1L]\n  .                 prefix <- paste(\"Error in\", dcall, \": \")\n  .                 LONG <- 75L\n  .                 sm <- strsplit(conditionMessage(e), \"\\n\")[[1L]]\n  .                 w <- 14L + nchar(dcall, type = \"w\") + nchar(sm[1L], \n  .                   type = \"w\")\n  .                 if (is.na(w)) \n  .                   w <- 14L + nchar(dcall, type = \"b\") + nchar(sm[1L], \n  .                     type = \"b\")\n  .                 if (w > LONG) \n  .                   prefix <- paste0(prefix, \"\\n  \")\n  .             }\n  .             else prefix <- \"Error : \"\n  .             msg <- paste0(prefix, conditionMessage(e), \"\\n\")\n  .             .Internal(seterrmessage(msg[1L]))\n  .             if (!silent && isTRUE(getOption(\"show.error.messages\"))) {\n  .                 cat(msg, file = outFile)\n  .                 .Internal(printDeferredWarnings())\n  .             }\n  .             invisible(structure(msg, class = \"try-error\", condition = e))\n  .         }), base:::tryCatchList(expr, classes, parentenv, handlers), \n  .     base:::tryCatchOne(expr, names, parentenv, handlers[[1L]]), \n  .     base:::doTryCatch(return(expr), name, parentenv, handler), \n  .     base::withCallingHandlers(withVisible(eval(expr, envir, enclos)), \n  .         warning = wHandler, error = eHandler, message = mHandler), \n  .     base::withVisible(eval(expr, envir, enclos)), base::eval(expr, \n  .         envir, enclos), base::eval(expr, envir, enclos), global::source_github_encod(\"https://github.com/ClaudiuPapasteri/Google-colab/blob/main/PA4/script_surveymonkey-colab-github_code.R\"), \n  .     base::eval(parse(text = l), envir = .GlobalEnv), base::eval(parse(text = l), \n  .         envir = .GlobalEnv), names(Data) %in% names(Data[, indexPCL]), \n  .     Data[, indexPCL], tibble:::`[.tbl_df`(Data, , indexPCL), \n  .     tibble:::vectbl_as_col_location(j, length(xo), names(xo), \n  .         j_arg = j_arg, assign = FALSE), tibble:::subclass_col_index_errors(vec_as_location(j, \n  .         n, names), j_arg = j_arg, assign = assign), base::withCallingHandlers(expr, \n  .         vctrs_error_subscript = function(cnd) {\n  .             cnd$subscript_arg <- j_arg\n  .             cnd$subscript_elt <- \"column\"\n  .             if (isTRUE(assign) && !isTRUE(cnd$subscript_action %in% \n  .                 c(\"negate\"))) {\n  .                 cnd$subscript_action <- \"assign\"\n  .             }\n  .             cnd_signal(cnd)\n  .         }), vctrs::vec_as_location(j, n, names), (function () \n  .     stop_subscript_oob(i = i, subscript_type = subscript_type, \n  .         size = size, subscript_action = subscript_action, subscript_arg = subscript_arg))(), \n  .     vctrs:::stop_subscript_oob(i = i, subscript_type = subscript_type, \n  .         size = size, subscript_action = subscript_action, subscript_arg = subscript_arg), \n  .     vctrs:::stop_subscript(class = \"vctrs_error_subscript_oob\", \n  .         i = i, subscript_type = subscript_type, ...)), parents = c(0L, \n  . 1L, 2L, 3L, 4L, 5L, 6L, 7L, 6L, 9L, 10L, 4L, 12L, 13L, 13L, 15L, \n  . 16L, 17L, 18L, 19L, 13L, 13L, 13L, 23L, 0L, 25L, 26L, 0L, 0L, \n  . 0L, 30L, 31L, 32L, 31L, 34L, 35L, 36L), indices = 1:37), class = \"rlang_trace\", version = 1L), \n  .     parent = NULL, i = 138:157, subscript_type = \"numeric\", size = 146L, \n  .     subscript_action = NULL, subscript_arg = \"\"), class = c(\"vctrs_error_subscript_oob\", \n  . \"vctrs_error_subscript\", \"rlang_error\", \"error\", \"condition\")))",
            "18. cnd_signal(cnd)",
            "19. rlang:::signal_abort(x)"
          ]
        }
      ]
    },
    {
      "cell_type": "markdown",
      "metadata": {
        "id": "p2_-ognh3S9z"
      },
      "source": [
        "# Save data to Google Sheet"
      ]
    },
    {
      "cell_type": "code",
      "metadata": {
        "colab": {
          "base_uri": "https://localhost:8080/"
        },
        "id": "22F-OD873bFj",
        "outputId": "80fe31e9-9f7c-4da9-9243-c9aae82eaf62"
      },
      "source": [
        "# Reuse token to Sheet authentification \n",
        "googlesheets4::gs4_auth(token = drive_token())\n",
        "\n",
        "# Data for export\n",
        "data_output <- df_screening\n",
        "\n",
        "# Name Sheet that will be created\n",
        "gsheet_name <- paste (\"PA4_Screening\", Sys.time(), sep = \" \")\n",
        "\n",
        "# Create Sheet in Google Drive\n",
        "if(googlesheets4::gs4_has_token()) {\n",
        "  gsheet_obj <- googlesheets4::gs4_create(\n",
        "    name = gsheet_name,\n",
        "    sheets = list(Sheet1 = data_output)    # Data goes in here\n",
        "    )\n",
        "}\n",
        " \n",
        "# Print a Sheet URL\n",
        "googlesheets4::gs4_get(googlesheets4::gs4_find(gsheet_name))$spreadsheet_url %>%\n",
        "  httr::BROWSE() "
      ],
      "execution_count": null,
      "outputs": [
        {
          "output_type": "stream",
          "text": [
            "Creating new Sheet: \"PA4_Screening 2021-02-09 11:09:54\"\n",
            "\n",
            "Please point your browser to the following url: \n",
            "\n",
            "https://docs.google.com/spreadsheets/d/1l_1ZHSMWewGu8F2ZOz_HGVLwRlKElCKKSnMRxe0VJ_0/edit\n",
            "\n"
          ],
          "name": "stderr"
        }
      ]
    },
    {
      "cell_type": "markdown",
      "metadata": {
        "id": "MZrQdc7P_S1J"
      },
      "source": [
        "## Delete Sheet from Google Drive"
      ]
    },
    {
      "cell_type": "code",
      "metadata": {
        "colab": {
          "base_uri": "https://localhost:8080/"
        },
        "id": "n0W13Kch_Y9u",
        "outputId": "28b9e359-a06e-4d97-bd6a-c1e8c0da9d49"
      },
      "source": [
        "# Delete Sheet form Google Drive\n",
        "googledrive::drive_trash(gsheet_obj)          # good for removing in same session (obj still in memory)\n",
        "# googlesheets4::gs4_find(gsheet_name) %>%   # good for removing in different session\n",
        "#   googledrive::drive_trash()"
      ],
      "execution_count": null,
      "outputs": [
        {
          "output_type": "stream",
          "text": [
            "Files trashed:\n",
            "  * PA4_Screening 2021-02-09 11:09:54: 1l_1ZHSMWewGu8F2ZOz_HGVLwRlKElCKKSnMRxe0VJ_0\n",
            "\n"
          ],
          "name": "stderr"
        }
      ]
    },
    {
      "cell_type": "markdown",
      "metadata": {
        "id": "SqtJXKlD1jnu"
      },
      "source": [
        "---"
      ]
    },
    {
      "cell_type": "markdown",
      "metadata": {
        "id": "uVqcvAzr95fd"
      },
      "source": [
        "## Sesion Info\n",
        "\n",
        "\n",
        "```\n",
        "# Info formatted as code\n",
        "```"
      ]
    },
    {
      "cell_type": "code",
      "metadata": {
        "id": "RiYqSKT3bpCg",
        "colab": {
          "base_uri": "https://localhost:8080/",
          "height": 50
        },
        "outputId": "ada4b530-9087-48ef-f65c-94937867b5ca"
      },
      "source": [
        "Sys.info()"
      ],
      "execution_count": null,
      "outputs": [
        {
          "output_type": "display_data",
          "data": {
            "text/plain": [
              "                              sysname                               release \n",
              "                              \"Linux\"                           \"4.19.112+\" \n",
              "                              version                              nodename \n",
              "\"#1 SMP Thu Jul 23 08:00:38 PDT 2020\"                        \"b61cfeb3d473\" \n",
              "                              machine                                 login \n",
              "                             \"x86_64\"                             \"unknown\" \n",
              "                                 user                        effective_user \n",
              "                               \"root\"                                \"root\" "
            ],
            "text/latex": "\\begin{description*}\n\\item[sysname] 'Linux'\n\\item[release] '4.19.112+'\n\\item[version] '\\#1 SMP Thu Jul 23 08:00:38 PDT 2020'\n\\item[nodename] 'b61cfeb3d473'\n\\item[machine] 'x86\\_64'\n\\item[login] 'unknown'\n\\item[user] 'root'\n\\item[effective\\textbackslash{}\\_user] 'root'\n\\end{description*}\n",
            "text/markdown": "sysname\n:   'Linux'release\n:   '4.19.112+'version\n:   '#1 SMP Thu Jul 23 08:00:38 PDT 2020'nodename\n:   'b61cfeb3d473'machine\n:   'x86_64'login\n:   'unknown'user\n:   'root'effective_user\n:   'root'\n\n",
            "text/html": [
              "<style>\n",
              ".dl-inline {width: auto; margin:0; padding: 0}\n",
              ".dl-inline>dt, .dl-inline>dd {float: none; width: auto; display: inline-block}\n",
              ".dl-inline>dt::after {content: \":\\0020\"; padding-right: .5ex}\n",
              ".dl-inline>dt:not(:first-of-type) {padding-left: .5ex}\n",
              "</style><dl class=dl-inline><dt>sysname</dt><dd>'Linux'</dd><dt>release</dt><dd>'4.19.112+'</dd><dt>version</dt><dd>'#1 SMP Thu Jul 23 08:00:38 PDT 2020'</dd><dt>nodename</dt><dd>'b61cfeb3d473'</dd><dt>machine</dt><dd>'x86_64'</dd><dt>login</dt><dd>'unknown'</dd><dt>user</dt><dd>'root'</dd><dt>effective_user</dt><dd>'root'</dd></dl>\n"
            ]
          },
          "metadata": {
            "tags": []
          }
        }
      ]
    }
  ]
}