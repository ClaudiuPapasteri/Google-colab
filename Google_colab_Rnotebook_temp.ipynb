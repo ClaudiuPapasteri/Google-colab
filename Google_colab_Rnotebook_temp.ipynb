{
  "nbformat": 4,
  "nbformat_minor": 0,
  "metadata": {
    "colab": {
      "name": "Google_colab_Rnotebook_temp.ipynb",
      "provenance": [],
      "collapsed_sections": [],
      "include_colab_link": true
    },
    "kernelspec": {
      "name": "ir",
      "display_name": "R"
    }
  },
  "cells": [
    {
      "cell_type": "markdown",
      "metadata": {
        "id": "view-in-github",
        "colab_type": "text"
      },
      "source": [
        "<a href=\"https://colab.research.google.com/github/ClaudiuPapasteri/Google-colab/blob/main/Google_colab_Rnotebook_temp.ipynb\" target=\"_parent\"><img src=\"https://colab.research.google.com/assets/colab-badge.svg\" alt=\"Open In Colab\"/></a>"
      ]
    },
    {
      "cell_type": "markdown",
      "metadata": {
        "id": "AtxyCnlCcAi1"
      },
      "source": [
        "# **Title**\n",
        "\n",
        "## ***Subtitele***\n",
        "\n",
        "Claudiu Papasteri\n",
        "\n",
        "<i>Native R Google Colab Template</i>\n",
        "\n",
        "- Info: Template for self-contained data science projects\n",
        "- Equivalent R Notebook: https://claudiupapasteri.github.io/notebooks/r-notebook-template/r-notebook-template.nb.html\n",
        "\n",
        "[My Github notebooks](https://github.com/ClaudiuPapasteri/notebooks)"
      ]
    },
    {
      "cell_type": "markdown",
      "metadata": {
        "id": "4U-4B67F-CJP"
      },
      "source": [
        "## Global Parameters\n",
        "\n",
        "\n",
        "```\n",
        "# Set Global Parameters here\n",
        "```"
      ]
    },
    {
      "cell_type": "code",
      "metadata": {
        "id": "M7X6GQb1LhHC"
      },
      "source": [
        "options(rlang_interactive = TRUE)  # needed to mount Google Drive"
      ],
      "execution_count": 1,
      "outputs": []
    },
    {
      "cell_type": "code",
      "metadata": {
        "colab": {
          "base_uri": "https://localhost:8080/",
          "height": 84
        },
        "id": "12P2vdgb-jy3",
        "outputId": "b32ccaa0-290f-4ba4-e69d-62170bfa4478"
      },
      "source": [
        "cat(\"R version: \")\n",
        "R.Version()$version.string\n",
        "\n",
        "cat(\"Number of cores: \")\n",
        "library(parallel)\n",
        "parallel::detectCores(all.tests = FALSE, logical = TRUE)"
      ],
      "execution_count": 2,
      "outputs": [
        {
          "output_type": "stream",
          "text": [
            "R version: "
          ],
          "name": "stdout"
        },
        {
          "output_type": "display_data",
          "data": {
            "text/plain": [
              "[1] \"R version 4.0.3 (2020-10-10)\""
            ],
            "text/latex": "'R version 4.0.3 (2020-10-10)'",
            "text/markdown": "'R version 4.0.3 (2020-10-10)'",
            "text/html": [
              "'R version 4.0.3 (2020-10-10)'"
            ]
          },
          "metadata": {
            "tags": []
          }
        },
        {
          "output_type": "stream",
          "text": [
            "Number of cores: "
          ],
          "name": "stdout"
        },
        {
          "output_type": "display_data",
          "data": {
            "text/plain": [
              "[1] 2"
            ],
            "text/latex": "2",
            "text/markdown": "2",
            "text/html": [
              "2"
            ]
          },
          "metadata": {
            "tags": []
          }
        }
      ]
    },
    {
      "cell_type": "markdown",
      "metadata": {
        "id": "Jcsu76adARUv"
      },
      "source": [
        "---"
      ]
    },
    {
      "cell_type": "markdown",
      "metadata": {
        "id": "1M8Wrd50Zyfr"
      },
      "source": [
        "## Install & load packages"
      ]
    },
    {
      "cell_type": "code",
      "metadata": {
        "id": "tg4XUaNygDBp",
        "colab": {
          "base_uri": "https://localhost:8080/",
          "height": 706
        },
        "outputId": "f60e1c63-939e-457c-be1b-94db85b4b151"
      },
      "source": [
        "load.libs <- \n",
        "  c(\n",
        "    \"tidyverse\", \"ggplot2\", \"DT\", \n",
        "    \"googledrive\", \"googlesheets4\"\n",
        "   )\n",
        "install.libs <- load.libs[!load.libs %in% installed.packages()]\n",
        "for(libs in install.libs) install.packages(libs, dependences = TRUE)\n",
        "sapply(load.libs, require, character = TRUE)\n",
        "rm(list = ls())"
      ],
      "execution_count": 3,
      "outputs": [
        {
          "output_type": "stream",
          "text": [
            "Installing package into ‘/usr/local/lib/R/site-library’\n",
            "(as ‘lib’ is unspecified)\n",
            "\n",
            "also installing the dependency ‘gargle’\n",
            "\n",
            "\n",
            "Installing package into ‘/usr/local/lib/R/site-library’\n",
            "(as ‘lib’ is unspecified)\n",
            "\n",
            "also installing the dependency ‘ids’\n",
            "\n",
            "\n",
            "Loading required package: tidyverse\n",
            "\n",
            "── \u001b[1mAttaching packages\u001b[22m ─────────────────────────────────────── tidyverse 1.3.0 ──\n",
            "\n",
            "\u001b[32m✔\u001b[39m \u001b[34mggplot2\u001b[39m 3.3.2     \u001b[32m✔\u001b[39m \u001b[34mpurrr  \u001b[39m 0.3.4\n",
            "\u001b[32m✔\u001b[39m \u001b[34mtibble \u001b[39m 3.0.4     \u001b[32m✔\u001b[39m \u001b[34mdplyr  \u001b[39m 1.0.2\n",
            "\u001b[32m✔\u001b[39m \u001b[34mtidyr  \u001b[39m 1.1.2     \u001b[32m✔\u001b[39m \u001b[34mstringr\u001b[39m 1.4.0\n",
            "\u001b[32m✔\u001b[39m \u001b[34mreadr  \u001b[39m 1.4.0     \u001b[32m✔\u001b[39m \u001b[34mforcats\u001b[39m 0.5.0\n",
            "\n",
            "── \u001b[1mConflicts\u001b[22m ────────────────────────────────────────── tidyverse_conflicts() ──\n",
            "\u001b[31m✖\u001b[39m \u001b[34mdplyr\u001b[39m::\u001b[32mfilter()\u001b[39m masks \u001b[34mstats\u001b[39m::filter()\n",
            "\u001b[31m✖\u001b[39m \u001b[34mdplyr\u001b[39m::\u001b[32mlag()\u001b[39m    masks \u001b[34mstats\u001b[39m::lag()\n",
            "\n",
            "Loading required package: DT\n",
            "\n",
            "Loading required package: googledrive\n",
            "\n",
            "Loading required package: googlesheets4\n",
            "\n",
            "\n",
            "Attaching package: ‘googlesheets4’\n",
            "\n",
            "\n",
            "The following objects are masked from ‘package:googledrive’:\n",
            "\n",
            "    request_generate, request_make\n",
            "\n",
            "\n"
          ],
          "name": "stderr"
        },
        {
          "output_type": "display_data",
          "data": {
            "text/plain": [
              "    tidyverse       ggplot2            DT   googledrive googlesheets4 \n",
              "         TRUE          TRUE          TRUE          TRUE          TRUE "
            ],
            "text/latex": "\\begin{description*}\n\\item[tidyverse] TRUE\n\\item[ggplot2] TRUE\n\\item[DT] TRUE\n\\item[googledrive] TRUE\n\\item[googlesheets4] TRUE\n\\end{description*}\n",
            "text/markdown": "tidyverse\n:   TRUEggplot2\n:   TRUEDT\n:   TRUEgoogledrive\n:   TRUEgooglesheets4\n:   TRUE\n\n",
            "text/html": [
              "<style>\n",
              ".dl-inline {width: auto; margin:0; padding: 0}\n",
              ".dl-inline>dt, .dl-inline>dd {float: none; width: auto; display: inline-block}\n",
              ".dl-inline>dt::after {content: \":\\0020\"; padding-right: .5ex}\n",
              ".dl-inline>dt:not(:first-of-type) {padding-left: .5ex}\n",
              "</style><dl class=dl-inline><dt>tidyverse</dt><dd>TRUE</dd><dt>ggplot2</dt><dd>TRUE</dd><dt>DT</dt><dd>TRUE</dd><dt>googledrive</dt><dd>TRUE</dd><dt>googlesheets4</dt><dd>TRUE</dd></dl>\n"
            ]
          },
          "metadata": {
            "tags": []
          }
        }
      ]
    },
    {
      "cell_type": "markdown",
      "metadata": {
        "id": "sb3ldtjKZLEO"
      },
      "source": [
        "---"
      ]
    },
    {
      "cell_type": "markdown",
      "metadata": {
        "id": "pHEG_t5TZPHp"
      },
      "source": [
        "# Define functions\n"
      ]
    },
    {
      "cell_type": "code",
      "metadata": {
        "id": "3fiO8MnhZLpR"
      },
      "source": [
        "###############################################################################\n",
        "# Define function \n",
        "###############################################################################\n",
        "\n",
        "\n"
      ],
      "execution_count": null,
      "outputs": []
    },
    {
      "cell_type": "markdown",
      "metadata": {
        "id": "3Xs-F6p9at-y"
      },
      "source": [
        "---"
      ]
    },
    {
      "cell_type": "markdown",
      "metadata": {
        "id": "_YlmC7m8HSLz"
      },
      "source": [
        "# Mount Google Drive"
      ]
    },
    {
      "cell_type": "code",
      "metadata": {
        "colab": {
          "base_uri": "https://localhost:8080/"
        },
        "id": "FuY8vyMbHXNX",
        "outputId": "116e31f3-7fdb-4a56-c948-15bbeee805ec"
      },
      "source": [
        "# Mount Google Drive in an R kernel\n",
        "library(\"googledrive\")\n",
        "library(\"googlesheets4\")\n",
        "\n",
        "# Check if is running in Colab and redefine is_interactive()\n",
        "if (file.exists(\"/usr/local/lib/python3.6/dist-packages/google/colab/_ipython.py\")) {\n",
        "  suppressMessages({\n",
        "    install.packages(\"R.utils\")\n",
        "    library(R.utils)\n",
        "    library(httr)\n",
        "    library(rlang)\n",
        "  })  \n",
        "  my_check <- function() {return(TRUE)}\n",
        "  reassignInPackage(\"is_interactive\", pkgName = \"httr\", my_check) \n",
        "  reassignInPackage(\"is_interactive\", pkgName = \"rlang\", my_check) \n",
        "}\n",
        "\n",
        "# Call Google Drive authentication forcing interactive login and save in cache \n",
        "googledrive::drive_auth(use_oob = TRUE, cache = TRUE)"
      ],
      "execution_count": 4,
      "outputs": [
        {
          "output_type": "stream",
          "text": [
            "Please point your browser to the following url: \n",
            "\n",
            "https://accounts.google.com/o/oauth2/auth?client_id=603366585132-0l3n5tr582q443rnomebdeeo0156b2bc.apps.googleusercontent.com&scope=https%3A%2F%2Fwww.googleapis.com%2Fauth%2Fdrive%20https%3A%2F%2Fwww.googleapis.com%2Fauth%2Fuserinfo.email&redirect_uri=urn%3Aietf%3Awg%3Aoauth%3A2.0%3Aoob&response_type=code\n",
            "\n"
          ],
          "name": "stderr"
        },
        {
          "output_type": "stream",
          "text": [
            "Enter authorization code: 4/1AY0e-g5K47D5QG87JDwZSn41qEDlvLIxpdFyWDahH40Q9lRRxM5w6XyBVZ8\n"
          ],
          "name": "stdout"
        }
      ]
    },
    {
      "cell_type": "markdown",
      "metadata": {
        "id": "571xRWebpdEv"
      },
      "source": [
        "# Load data from Google Sheet in Google Drive"
      ]
    },
    {
      "cell_type": "code",
      "metadata": {
        "colab": {
          "base_uri": "https://localhost:8080/"
        },
        "id": "eFFkL3m4ppQB",
        "outputId": "9772e87b-b110-4ef2-c99d-ee4704f7f1f3"
      },
      "source": [
        "# Find Google Sheets \n",
        "Sheets <- googledrive::drive_find(type = \"spreadsheet\")\n",
        "\n",
        "# Reuse token to Sheet authentification \n",
        "googlesheets4::gs4_auth(token = drive_token())\n",
        "\n",
        "# Read first Google Sheet in Google Drive\n",
        "sheet_data <- googlesheets4::range_read(Sheets$id[1])"
      ],
      "execution_count": null,
      "outputs": [
        {
          "output_type": "stream",
          "text": [
            "Reading from \"FPSE profil Google scholar\"\n",
            "\n",
            "Range \"Foaie1\"\n",
            "\n"
          ],
          "name": "stderr"
        }
      ]
    },
    {
      "cell_type": "markdown",
      "metadata": {
        "id": "xBqddlkQMG2J"
      },
      "source": [
        "# Load data, processing, scoring"
      ]
    },
    {
      "cell_type": "code",
      "metadata": {
        "id": "FC0PTrrZMO33"
      },
      "source": [
        "###############################################################################\n",
        "# Load data\n",
        "###############################################################################\n",
        "\n",
        "# Load from package\n",
        "rawdata <- ggplot2::diamonds\n",
        "\n",
        "###############################################################################\n",
        "# Processing data\n",
        "###############################################################################\n",
        "processed_data <- \n",
        "  rawdata %>% \n",
        "  dplyr::filter(carat <= 2.5)"
      ],
      "execution_count": null,
      "outputs": []
    },
    {
      "cell_type": "markdown",
      "metadata": {
        "id": "mCzNSnaewzO-"
      },
      "source": [
        "# Run code from Github gist"
      ]
    },
    {
      "cell_type": "code",
      "metadata": {
        "colab": {
          "base_uri": "https://localhost:8080/"
        },
        "id": "LNP7YSjTw4L1",
        "outputId": "2cf1b020-df4f-45f6-e20d-74aabe03960b"
      },
      "source": [
        "devtools::source_gist(\"https://gist.github.com/C-C-P/32869ae032ead6ebb2167554108dad12\")    # use also devtools::source_url()"
      ],
      "execution_count": null,
      "outputs": [
        {
          "output_type": "stream",
          "text": [
            "Sourcing https://gist.githubusercontent.com/C-C-P/32869ae032ead6ebb2167554108dad12/raw/6b549be63dbffa66dca982af75c02a6b32184d1c/gist_test_google_colab.R\n",
            "\n",
            "SHA-1 hash of file is 4b315ce7e2f6bd3311f67d5b46d6330cc85fd84b\n",
            "\n"
          ],
          "name": "stderr"
        },
        {
          "output_type": "stream",
          "text": [
            "[1] 42\n",
            "Correct, the number is 42"
          ],
          "name": "stdout"
        }
      ]
    },
    {
      "cell_type": "markdown",
      "metadata": {
        "id": "UCGkO4EzPBw4"
      },
      "source": [
        "## Output table - _knitr_\n",
        "\n"
      ]
    },
    {
      "cell_type": "code",
      "metadata": {
        "colab": {
          "base_uri": "https://localhost:8080/",
          "height": 286
        },
        "id": "Yp8ty258P7r4",
        "outputId": "b704ad76-e62b-4bbe-d1db-1dd3ce8484ec"
      },
      "source": [
        "# tibble output\n",
        "processed_data[1:3, ]\n",
        "\n",
        "# ??? knitr kable\n",
        "processed_data[1:3, ] %>%\n",
        "  knitr::kable(caption = \"A knitr kable.\", \n",
        "               format = \"simple\"\n",
        "              )"
      ],
      "execution_count": null,
      "outputs": [
        {
          "output_type": "display_data",
          "data": {
            "text/plain": [
              "  carat cut     color clarity depth table price x    y    z   \n",
              "1 0.23  Ideal   E     SI2     61.5  55    326   3.95 3.98 2.43\n",
              "2 0.21  Premium E     SI1     59.8  61    326   3.89 3.84 2.31\n",
              "3 0.23  Good    E     VS1     56.9  65    327   4.05 4.07 2.31"
            ],
            "text/latex": "A tibble: 3 × 10\n\\begin{tabular}{llllllllll}\n carat & cut & color & clarity & depth & table & price & x & y & z\\\\\n <dbl> & <ord> & <ord> & <ord> & <dbl> & <dbl> & <int> & <dbl> & <dbl> & <dbl>\\\\\n\\hline\n\t 0.23 & Ideal   & E & SI2 & 61.5 & 55 & 326 & 3.95 & 3.98 & 2.43\\\\\n\t 0.21 & Premium & E & SI1 & 59.8 & 61 & 326 & 3.89 & 3.84 & 2.31\\\\\n\t 0.23 & Good    & E & VS1 & 56.9 & 65 & 327 & 4.05 & 4.07 & 2.31\\\\\n\\end{tabular}\n",
            "text/markdown": "\nA tibble: 3 × 10\n\n| carat &lt;dbl&gt; | cut &lt;ord&gt; | color &lt;ord&gt; | clarity &lt;ord&gt; | depth &lt;dbl&gt; | table &lt;dbl&gt; | price &lt;int&gt; | x &lt;dbl&gt; | y &lt;dbl&gt; | z &lt;dbl&gt; |\n|---|---|---|---|---|---|---|---|---|---|\n| 0.23 | Ideal   | E | SI2 | 61.5 | 55 | 326 | 3.95 | 3.98 | 2.43 |\n| 0.21 | Premium | E | SI1 | 59.8 | 61 | 326 | 3.89 | 3.84 | 2.31 |\n| 0.23 | Good    | E | VS1 | 56.9 | 65 | 327 | 4.05 | 4.07 | 2.31 |\n\n",
            "text/html": [
              "<table>\n",
              "<caption>A tibble: 3 × 10</caption>\n",
              "<thead>\n",
              "\t<tr><th scope=col>carat</th><th scope=col>cut</th><th scope=col>color</th><th scope=col>clarity</th><th scope=col>depth</th><th scope=col>table</th><th scope=col>price</th><th scope=col>x</th><th scope=col>y</th><th scope=col>z</th></tr>\n",
              "\t<tr><th scope=col>&lt;dbl&gt;</th><th scope=col>&lt;ord&gt;</th><th scope=col>&lt;ord&gt;</th><th scope=col>&lt;ord&gt;</th><th scope=col>&lt;dbl&gt;</th><th scope=col>&lt;dbl&gt;</th><th scope=col>&lt;int&gt;</th><th scope=col>&lt;dbl&gt;</th><th scope=col>&lt;dbl&gt;</th><th scope=col>&lt;dbl&gt;</th></tr>\n",
              "</thead>\n",
              "<tbody>\n",
              "\t<tr><td>0.23</td><td>Ideal  </td><td>E</td><td>SI2</td><td>61.5</td><td>55</td><td>326</td><td>3.95</td><td>3.98</td><td>2.43</td></tr>\n",
              "\t<tr><td>0.21</td><td>Premium</td><td>E</td><td>SI1</td><td>59.8</td><td>61</td><td>326</td><td>3.89</td><td>3.84</td><td>2.31</td></tr>\n",
              "\t<tr><td>0.23</td><td>Good   </td><td>E</td><td>VS1</td><td>56.9</td><td>65</td><td>327</td><td>4.05</td><td>4.07</td><td>2.31</td></tr>\n",
              "</tbody>\n",
              "</table>\n"
            ]
          },
          "metadata": {
            "tags": []
          }
        },
        {
          "output_type": "display_data",
          "data": {
            "text/plain": [
              "\n",
              "\n",
              "Table: A knitr kable.\n",
              "\n",
              " carat  cut       color   clarity    depth   table   price      x      y      z\n",
              "------  --------  ------  --------  ------  ------  ------  -----  -----  -----\n",
              "  0.23  Ideal     E       SI2         61.5      55     326   3.95   3.98   2.43\n",
              "  0.21  Premium   E       SI1         59.8      61     326   3.89   3.84   2.31\n",
              "  0.23  Good      E       VS1         56.9      65     327   4.05   4.07   2.31"
            ]
          },
          "metadata": {
            "tags": []
          }
        }
      ]
    },
    {
      "cell_type": "markdown",
      "metadata": {
        "id": "RLC-IsCiQRN3"
      },
      "source": [
        "## Output plot"
      ]
    },
    {
      "cell_type": "code",
      "metadata": {
        "colab": {
          "base_uri": "https://localhost:8080/",
          "height": 437
        },
        "id": "CL0AioslQWtv",
        "outputId": "f9396fef-bc17-488b-91e9-fa98c362af0a"
      },
      "source": [
        "# Plot\n",
        "processed_data %>%\n",
        "  ggplot(aes(carat)) + \n",
        "    geom_freqpoly(binwidth = 0.01)"
      ],
      "execution_count": null,
      "outputs": [
        {
          "output_type": "display_data",
          "data": {
            "image/png": "[encoded data removed]",
            "text/plain": [
              "plot without title"
            ]
          },
          "metadata": {
            "tags": [],
            "image/png": {
              "width": 420,
              "height": 420
            }
          }
        }
      ]
    },
    {
      "cell_type": "markdown",
      "metadata": {
        "id": "p2_-ognh3S9z"
      },
      "source": [
        "# Save data to Google Sheet"
      ]
    },
    {
      "cell_type": "code",
      "metadata": {
        "colab": {
          "base_uri": "https://localhost:8080/",
          "height": 252
        },
        "id": "22F-OD873bFj",
        "outputId": "5af1ac62-8672-4f47-9951-adad812dfe0a"
      },
      "source": [
        " # Reuse token to sheet authentification \n",
        "googlesheets4::gs4_auth(token = drive_token())\n",
        "\n",
        "# Name Sheet that will be created\n",
        "gsheet_name <- paste (\"Rnotebook Google colab Sheet\", Sys.time(), sep = \" \")\n",
        "\n",
        "# Create Sheet in Google Drive\n",
        "if(googlesheets4::gs4_has_token()) {\n",
        "  gsheet_obj <- googlesheets4::gs4_create(\n",
        "    name = gsheet_name,\n",
        "    sheets = list(Sheet1 = head(iris))    # Data goes in here\n",
        "    )\n",
        "}\n",
        " \n",
        "# Check Sheet info\n",
        "gsheet_obj\n",
        "\n",
        "# Open a Sheet in default web browser\n",
        "# googlesheets4::gs4_browse(gsheet_obj)   # works only in interactive, not in Google colab\n",
        "# Print a Sheet URL\n",
        "googlesheets4::gs4_get(googlesheets4::gs4_find(gsheet_name))$spreadsheet_url %>%\n",
        "  httr::BROWSE() "
      ],
      "execution_count": 28,
      "outputs": [
        {
          "output_type": "stream",
          "text": [
            "Creating new Sheet: \"Rnotebook Google colab Sheet 2020-11-26 14:40:50\"\n",
            "\n"
          ],
          "name": "stderr"
        },
        {
          "output_type": "display_data",
          "data": {
            "text/plain": [
              "  Spreadsheet name: Rnotebook Google colab Sheet 2020-11-26 14:40:50\n",
              "                ID: 1dHjtZFsbbgNH7h99zmVqjZh4JJlt3FpgdbtTlwfxIHI\n",
              "            Locale: ro_RO\n",
              "         Time zone: Etc/GMT\n",
              "       # of sheets: 1\n",
              "\n",
              "(Sheet name): (Nominal extent in rows x columns)\n",
              "      Sheet1: 7 x 5"
            ]
          },
          "metadata": {
            "tags": []
          }
        },
        {
          "output_type": "stream",
          "text": [
            "Please point your browser to the following url: \n",
            "\n",
            "https://docs.google.com/spreadsheets/d/1dHjtZFsbbgNH7h99zmVqjZh4JJlt3FpgdbtTlwfxIHI/edit?ouid=107664192331087843655&urlBuilderDomain=fpse.unibuc.ro\n",
            "\n"
          ],
          "name": "stderr"
        }
      ]
    },
    {
      "cell_type": "markdown",
      "metadata": {
        "id": "MZrQdc7P_S1J"
      },
      "source": [
        "## Delete Sheet from Google Drive"
      ]
    },
    {
      "cell_type": "code",
      "metadata": {
        "colab": {
          "base_uri": "https://localhost:8080/"
        },
        "id": "n0W13Kch_Y9u",
        "outputId": "c904c893-ff36-499b-eedf-8080753dbe75"
      },
      "source": [
        "# Delete Sheet form Google Drive\n",
        "googledrive::drive_trash(gsheet_obj)          # good for removing in same session (obj still in memory)\n",
        "# googlesheets4::gs4_find(gsheet_name) %>%   # good for removing in different session\n",
        "#   googledrive::drive_trash()"
      ],
      "execution_count": 29,
      "outputs": [
        {
          "output_type": "stream",
          "text": [
            "Files trashed:\n",
            "  * Rnotebook Google colab Sheet 2020-11-26 14:40:50: 1dHjtZFsbbgNH7h99zmVqjZh4JJlt3FpgdbtTlwfxIHI\n",
            "\n"
          ],
          "name": "stderr"
        }
      ]
    },
    {
      "cell_type": "markdown",
      "metadata": {
        "id": "uVqcvAzr95fd"
      },
      "source": [
        "## Sesion Info\n",
        "\n",
        "\n",
        "```\n",
        "# Info formatted as code\n",
        "```"
      ]
    },
    {
      "cell_type": "code",
      "metadata": {
        "id": "RiYqSKT3bpCg",
        "colab": {
          "base_uri": "https://localhost:8080/",
          "height": 50
        },
        "outputId": "ada4b530-9087-48ef-f65c-94937867b5ca"
      },
      "source": [
        "Sys.info()"
      ],
      "execution_count": null,
      "outputs": [
        {
          "output_type": "display_data",
          "data": {
            "text/plain": [
              "                              sysname                               release \n",
              "                              \"Linux\"                           \"4.19.112+\" \n",
              "                              version                              nodename \n",
              "\"#1 SMP Thu Jul 23 08:00:38 PDT 2020\"                        \"b61cfeb3d473\" \n",
              "                              machine                                 login \n",
              "                             \"x86_64\"                             \"unknown\" \n",
              "                                 user                        effective_user \n",
              "                               \"root\"                                \"root\" "
            ],
            "text/latex": "\\begin{description*}\n\\item[sysname] 'Linux'\n\\item[release] '4.19.112+'\n\\item[version] '\\#1 SMP Thu Jul 23 08:00:38 PDT 2020'\n\\item[nodename] 'b61cfeb3d473'\n\\item[machine] 'x86\\_64'\n\\item[login] 'unknown'\n\\item[user] 'root'\n\\item[effective\\textbackslash{}\\_user] 'root'\n\\end{description*}\n",
            "text/markdown": "sysname\n:   'Linux'release\n:   '4.19.112+'version\n:   '#1 SMP Thu Jul 23 08:00:38 PDT 2020'nodename\n:   'b61cfeb3d473'machine\n:   'x86_64'login\n:   'unknown'user\n:   'root'effective_user\n:   'root'\n\n",
            "text/html": [
              "<style>\n",
              ".dl-inline {width: auto; margin:0; padding: 0}\n",
              ".dl-inline>dt, .dl-inline>dd {float: none; width: auto; display: inline-block}\n",
              ".dl-inline>dt::after {content: \":\\0020\"; padding-right: .5ex}\n",
              ".dl-inline>dt:not(:first-of-type) {padding-left: .5ex}\n",
              "</style><dl class=dl-inline><dt>sysname</dt><dd>'Linux'</dd><dt>release</dt><dd>'4.19.112+'</dd><dt>version</dt><dd>'#1 SMP Thu Jul 23 08:00:38 PDT 2020'</dd><dt>nodename</dt><dd>'b61cfeb3d473'</dd><dt>machine</dt><dd>'x86_64'</dd><dt>login</dt><dd>'unknown'</dd><dt>user</dt><dd>'root'</dd><dt>effective_user</dt><dd>'root'</dd></dl>\n"
            ]
          },
          "metadata": {
            "tags": []
          }
        }
      ]
    }
  ]
}